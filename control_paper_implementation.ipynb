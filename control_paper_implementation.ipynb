{
  "nbformat": 4,
  "nbformat_minor": 0,
  "metadata": {
    "colab": {
      "provenance": [],
      "include_colab_link": true
    },
    "kernelspec": {
      "name": "python3",
      "display_name": "Python 3"
    },
    "language_info": {
      "name": "python"
    }
  },
  "cells": [
    {
      "cell_type": "markdown",
      "metadata": {
        "id": "view-in-github",
        "colab_type": "text"
      },
      "source": [
        "<a href=\"https://colab.research.google.com/github/syzygy21/Customer-prediction-through-Artificial-neural-networks/blob/main/control_paper_implementation.ipynb\" target=\"_parent\"><img src=\"https://colab.research.google.com/assets/colab-badge.svg\" alt=\"Open In Colab\"/></a>"
      ]
    },
    {
      "cell_type": "code",
      "execution_count": null,
      "metadata": {
        "id": "wQtzJFVQSeMz",
        "colab": {
          "base_uri": "https://localhost:8080/",
          "height": 408
        },
        "outputId": "48fc3c7b-ba38-4ce3-bd71-bd5632135675"
      },
      "outputs": [
        {
          "output_type": "error",
          "ename": "TypeError",
          "evalue": "ignored",
          "traceback": [
            "\u001b[0;31m---------------------------------------------------------------------------\u001b[0m",
            "\u001b[0;31mTypeError\u001b[0m                                 Traceback (most recent call last)",
            "\u001b[0;32m<ipython-input-2-b9c0119c6502>\u001b[0m in \u001b[0;36m<cell line: 10>\u001b[0;34m()\u001b[0m\n\u001b[1;32m      8\u001b[0m \u001b[0mm\u001b[0m \u001b[0;34m=\u001b[0m \u001b[0msp\u001b[0m\u001b[0;34m.\u001b[0m\u001b[0mSymbol\u001b[0m\u001b[0;34m(\u001b[0m\u001b[0;34m'mass'\u001b[0m\u001b[0;34m)\u001b[0m\u001b[0;34m\u001b[0m\u001b[0;34m\u001b[0m\u001b[0m\n\u001b[1;32m      9\u001b[0m \u001b[0mI\u001b[0m \u001b[0;34m=\u001b[0m \u001b[0msp\u001b[0m\u001b[0;34m.\u001b[0m\u001b[0mSymbol\u001b[0m\u001b[0;34m(\u001b[0m\u001b[0;34m'Inertia'\u001b[0m\u001b[0;34m)\u001b[0m\u001b[0;34m\u001b[0m\u001b[0;34m\u001b[0m\u001b[0m\n\u001b[0;32m---> 10\u001b[0;31m \u001b[0mr\u001b[0m \u001b[0;34m=\u001b[0m \u001b[0msp\u001b[0m\u001b[0;34m.\u001b[0m\u001b[0mMatrix\u001b[0m\u001b[0;34m(\u001b[0m\u001b[0;34m'Radius of driving wheels'\u001b[0m\u001b[0;34m)\u001b[0m\u001b[0;34m\u001b[0m\u001b[0;34m\u001b[0m\u001b[0m\n\u001b[0m\u001b[1;32m     11\u001b[0m \u001b[0ml\u001b[0m \u001b[0;34m=\u001b[0m \u001b[0msp\u001b[0m\u001b[0;34m.\u001b[0m\u001b[0mMatrix\u001b[0m\u001b[0;34m(\u001b[0m\u001b[0;34m'azimuth length from C'\u001b[0m\u001b[0;34m)\u001b[0m\u001b[0;34m\u001b[0m\u001b[0;34m\u001b[0m\u001b[0m\n\u001b[1;32m     12\u001b[0m \u001b[0mPc\u001b[0m \u001b[0;34m=\u001b[0m \u001b[0msp\u001b[0m\u001b[0;34m.\u001b[0m\u001b[0mMatrix\u001b[0m \u001b[0;34m(\u001b[0m\u001b[0;34m[\u001b[0m\u001b[0;34m[\u001b[0m\u001b[0mxc\u001b[0m \u001b[0;34m,\u001b[0m \u001b[0myc\u001b[0m \u001b[0;34m,\u001b[0m \u001b[0mthetac\u001b[0m\u001b[0;34m]\u001b[0m\u001b[0;34m]\u001b[0m\u001b[0;34m)\u001b[0m\u001b[0;34m\u001b[0m\u001b[0;34m\u001b[0m\u001b[0m\n",
            "\u001b[0;32m/usr/local/lib/python3.10/dist-packages/sympy/matrices/repmatrix.py\u001b[0m in \u001b[0;36m__new__\u001b[0;34m(cls, *args, **kwargs)\u001b[0m\n\u001b[1;32m    327\u001b[0m \u001b[0;34m\u001b[0m\u001b[0m\n\u001b[1;32m    328\u001b[0m     \u001b[0;32mdef\u001b[0m \u001b[0m__new__\u001b[0m\u001b[0;34m(\u001b[0m\u001b[0mcls\u001b[0m\u001b[0;34m,\u001b[0m \u001b[0;34m*\u001b[0m\u001b[0margs\u001b[0m\u001b[0;34m,\u001b[0m \u001b[0;34m**\u001b[0m\u001b[0mkwargs\u001b[0m\u001b[0;34m)\u001b[0m\u001b[0;34m:\u001b[0m\u001b[0;34m\u001b[0m\u001b[0;34m\u001b[0m\u001b[0m\n\u001b[0;32m--> 329\u001b[0;31m         \u001b[0;32mreturn\u001b[0m \u001b[0mcls\u001b[0m\u001b[0;34m.\u001b[0m\u001b[0m_new\u001b[0m\u001b[0;34m(\u001b[0m\u001b[0;34m*\u001b[0m\u001b[0margs\u001b[0m\u001b[0;34m,\u001b[0m \u001b[0;34m**\u001b[0m\u001b[0mkwargs\u001b[0m\u001b[0;34m)\u001b[0m\u001b[0;34m\u001b[0m\u001b[0;34m\u001b[0m\u001b[0m\n\u001b[0m\u001b[1;32m    330\u001b[0m \u001b[0;34m\u001b[0m\u001b[0m\n\u001b[1;32m    331\u001b[0m     \u001b[0;34m@\u001b[0m\u001b[0mclassmethod\u001b[0m\u001b[0;34m\u001b[0m\u001b[0;34m\u001b[0m\u001b[0m\n",
            "\u001b[0;32m/usr/local/lib/python3.10/dist-packages/sympy/matrices/repmatrix.py\u001b[0m in \u001b[0;36m_new\u001b[0;34m(cls, copy, *args, **kwargs)\u001b[0m\n\u001b[1;32m    338\u001b[0m             \u001b[0mrows\u001b[0m\u001b[0;34m,\u001b[0m \u001b[0mcols\u001b[0m\u001b[0;34m,\u001b[0m \u001b[0mflat_list\u001b[0m \u001b[0;34m=\u001b[0m \u001b[0margs\u001b[0m\u001b[0;34m\u001b[0m\u001b[0;34m\u001b[0m\u001b[0m\n\u001b[1;32m    339\u001b[0m         \u001b[0;32melse\u001b[0m\u001b[0;34m:\u001b[0m\u001b[0;34m\u001b[0m\u001b[0;34m\u001b[0m\u001b[0m\n\u001b[0;32m--> 340\u001b[0;31m             \u001b[0mrows\u001b[0m\u001b[0;34m,\u001b[0m \u001b[0mcols\u001b[0m\u001b[0;34m,\u001b[0m \u001b[0mflat_list\u001b[0m \u001b[0;34m=\u001b[0m \u001b[0mcls\u001b[0m\u001b[0;34m.\u001b[0m\u001b[0m_handle_creation_inputs\u001b[0m\u001b[0;34m(\u001b[0m\u001b[0;34m*\u001b[0m\u001b[0margs\u001b[0m\u001b[0;34m,\u001b[0m \u001b[0;34m**\u001b[0m\u001b[0mkwargs\u001b[0m\u001b[0;34m)\u001b[0m\u001b[0;34m\u001b[0m\u001b[0;34m\u001b[0m\u001b[0m\n\u001b[0m\u001b[1;32m    341\u001b[0m             \u001b[0mflat_list\u001b[0m \u001b[0;34m=\u001b[0m \u001b[0mlist\u001b[0m\u001b[0;34m(\u001b[0m\u001b[0mflat_list\u001b[0m\u001b[0;34m)\u001b[0m \u001b[0;31m# create a shallow copy\u001b[0m\u001b[0;34m\u001b[0m\u001b[0;34m\u001b[0m\u001b[0m\n\u001b[1;32m    342\u001b[0m \u001b[0;34m\u001b[0m\u001b[0m\n",
            "\u001b[0;32m/usr/local/lib/python3.10/dist-packages/sympy/matrices/matrices.py\u001b[0m in \u001b[0;36m_handle_creation_inputs\u001b[0;34m(cls, *args, **kwargs)\u001b[0m\n\u001b[1;32m   1106\u001b[0m \u001b[0;34m\u001b[0m\u001b[0m\n\u001b[1;32m   1107\u001b[0m         \u001b[0;32mif\u001b[0m \u001b[0mflat_list\u001b[0m \u001b[0;32mis\u001b[0m \u001b[0;32mNone\u001b[0m\u001b[0;34m:\u001b[0m\u001b[0;34m\u001b[0m\u001b[0;34m\u001b[0m\u001b[0m\n\u001b[0;32m-> 1108\u001b[0;31m             raise TypeError(filldedent('''\n\u001b[0m\u001b[1;32m   1109\u001b[0m                 \u001b[0mData\u001b[0m \u001b[0mtype\u001b[0m \u001b[0;32mnot\u001b[0m \u001b[0munderstood\u001b[0m\u001b[0;34m;\u001b[0m \u001b[0mexpecting\u001b[0m \u001b[0mlist\u001b[0m \u001b[0mof\u001b[0m \u001b[0mlists\u001b[0m\u001b[0;34m\u001b[0m\u001b[0;34m\u001b[0m\u001b[0m\n\u001b[1;32m   1110\u001b[0m                 or lists of values.'''))\n",
            "\u001b[0;31mTypeError\u001b[0m: \nData type not understood; expecting list of lists or lists of values."
          ]
        }
      ],
      "source": [
        "import sympy as sp\n",
        "t = sp.Symbol('time')\n",
        "xc = sp.Symbol('x position')\n",
        "yc = sp.Symbol('y position')\n",
        "thetac = sp.Symbol ('orientation')\n",
        "Vc = sp.Symbol('Velocity')\n",
        "Wc = sp.Symbol('angular velocity')\n",
        "m = sp.Symbol('mass')\n",
        "I = sp.Symbol('Inertia')\n",
        "r = sp.Matrix('Radius of driving wheels')\n",
        "l = sp.Matrix('azimuth length from C')\n",
        "Pc = sp.Matrix ([[xc , yc , thetac]])\n",
        "tao_r = sp.Matrix('Torque of right wheel')\n",
        "tao_l = sp.Matrix('Torque of left wheel')\n",
        "xc_dot = sp.Symbol('change in x')\n",
        "yc_dot = sp.Symbol('change in y')\n",
        "thetac_dot = sp.Symbol('change in orientation')\n",
        "\n",
        "Eq = yc_dot * sp.cos(thetac) - xc_dot * sp.sin(thetac)\n",
        "\n",
        "\n",
        "jacobian = sp.Matrix ([sp.cos (thetac) , 0] , [sp.sin(thetac) , 0] , [0 , 1])\n",
        "\n",
        "control_inputs = sp.Matrix([[Vc , Wc]])\n",
        "\n",
        "conrol_inputs = sp.Transpose(control_inputs)\n",
        "\n",
        "Pc_dot = jacobian * control_inputs\n",
        "\n",
        "M = sp.Matrix([[m , 0] , [0 , I]])\n",
        "\n",
        "M_inverse = sp.Matrix([[1/m , 0] , [0 , -I]])\n",
        "\n",
        "B = sp.Matrix([[1/r , 1/r] , [l/r , l/r]])\n",
        "\n",
        "tao_c = sp.Matrix([[tao_r , tao_l]])\n",
        "\n",
        "tao_c = sp.Transpose(tao_c)\n",
        "\n",
        "control_input_dot = M_inverse * B * tao_c\n",
        "\n",
        "\n",
        "print()"
      ]
    },
    {
      "cell_type": "code",
      "source": [
        "import numpy as np\n",
        "\n",
        "# offsets of each variable in the state vector\n",
        "\n",
        "class KF:\n",
        "    def __init__(self, initial_v: float,\n",
        "                       initial_w: float,\n",
        "                       torque_left: float, torque_right: float ) -> None:\n",
        "        # mean of state GRV\n",
        "        self._x = np.array([[initial_v] , [initial_w]])   # putting velocity and angular velocity in the state space\n",
        "        self._I = 0.1\n",
        "        self._l = 1\n",
        "        self._r = 1\n",
        "        self._m = 10\n",
        "        self._G = np.array([[self._I/self._r] , [(self._l*self._m)/self._r]])\n",
        "        self._F = np.eye(2)\n",
        "        self._torque_left = torque_left\n",
        "        self._torque_right = torque_right\n",
        "        self._ci = self._torque_left + self._torque_right\n",
        "        #covarianc matrix\n",
        "        self._P = np.eye(2)   # P= 10Q = 10*diag(e^-5,e^-6)\n",
        "        #self._x[iX] = initial_x\n",
        "        #self._x[iV] = initial_v\n",
        "\n",
        "        #self._accel_variance = accel_variance\n",
        "        # covariance of state GRV\n",
        "\n",
        "\n",
        "    def predict(self, dt : float, torque_left : float, torque_right : float) -> None:\n",
        "        # x = F x + G * ci + prediction_noise\n",
        "        # P = F P Ft + process_covariance\n",
        "        #F = np.eye(2)    #identity matrix (2*2)\n",
        "        #F[iX, iV] = dt\n",
        "\n",
        "        self._ci = torque_left + torque_right\n",
        "        prediction_noise = np.array([[0.5] , [0.5]])\n",
        "        new_x = self._F.dot(self._x) + self._G * (self._ci * dt) + prediction_noise\n",
        "        #new_x = np.matrix([[0.4] , [0.4]])\n",
        "\n",
        "        #G = np.zeros((2, 1))\n",
        "        #G[iX] = 0.5 * dt**2\n",
        "        #G[iV] = dt\n",
        "\n",
        "        #process_covariance_noise is Q matrix Q = diag(e^-5,e^-6)\n",
        "        process_covariance_noise = np.matrix([[0.5 , 0.5] , [0.5 , 0.5]]) #np.array([[0.0067 , 0] , [0 , 0.0024]])\n",
        "        new_P = self._F.dot(self._P).dot(self._F.T) + process_covariance_noise\n",
        "\n",
        "        self._P = new_P\n",
        "        self._x = new_x\n",
        "\n",
        "    def update(self, meas_velocity: float, meas_angular_velocity: float, meas_variance: float):\n",
        "        # y = z - H x\n",
        "        # S = H P Ht + R\n",
        "        # K = P Ht S^-1\n",
        "        # x = x + K y\n",
        "        # P = (I - K H) * P\n",
        "\n",
        "        H = np.matrix([[1 , 0] , [0 , 1]])\n",
        "        # print(meas_velocity)\n",
        "        # print(meas_angular_velocity)\n",
        "        z = np.matrix([[meas_velocity], [meas_angular_velocity]])\n",
        "        R = np.array([[meas_variance , 0] ,[0 , meas_variance]])  # R= diag(e^-2,e^-3)\n",
        "        # print(\"x,y,k.y\")\n",
        "        # print(self._x)\n",
        "        # print(\"Update\")\n",
        "        # print(z)\n",
        "        # print(self._x)\n",
        "\n",
        "        y = z - H.dot(self._x)\n",
        "        S = H.dot(self._P).dot(H.T) + R\n",
        "        K = self._P.dot(H.T).dot(np.linalg.inv(S))\n",
        "\n",
        "        # print(y)\n",
        "        # print(K.dot(y))\n",
        "        new_x = self._x + K.dot(y)\n",
        "        new_P = (np.eye(2) - K.dot(H)).dot(self._P)\n",
        "\n",
        "        self._P = new_P\n",
        "        self._x = new_x\n",
        "\n",
        "    @property\n",
        "    def cov(self) -> np.array:\n",
        "        return self._P\n",
        "\n",
        "    @property\n",
        "    def mean(self) -> np.array:\n",
        "        return self._x\n"
      ],
      "metadata": {
        "id": "AqklWjloSh8a"
      },
      "execution_count": null,
      "outputs": []
    },
    {
      "cell_type": "code",
      "source": [
        "import matplotlib.pyplot as plt\n",
        "import numpy as np\n",
        "#first let's define initial values for initializing the object for the KF class\n",
        "initial_v = 1\n",
        "initial_w = 1\n",
        "initial_torque_left = 1\n",
        "initial_torque_right = 1\n",
        "meas_velocity = 0\n",
        "meas_angular_velocity = 0\n",
        "kf = KF( initial_v , initial_w ,  initial_torque_left , initial_torque_right )\n",
        "meas_variance = 0.01\n",
        "time = 0\n",
        "DT = 1 # time step\n",
        "v_reference = 4 * time\n",
        "w_reference = 5 * time\n",
        "C_4 = 5\n",
        "C_5 = 5\n",
        "c = 1 #Dont know the value\n",
        "#Num_steps = 100\n",
        "#measurement step, ie observations that come out of the robot dynamic equations\n",
        "#ci = initial_torque_left + initial_torque_right\n",
        "#meas_velocity = meas_velocity + (I/R) * ci * DT\n",
        "#meas_angular_velocity = meas_angular_velocity + (l * m) / R * (ci) * DT  # model of angular velocity\n",
        "#Lets add noise to the measured values.\n",
        "#robot parameters\n",
        "I = 0.1\n",
        "l = 1\n",
        "r = 1\n",
        "m = 10\n",
        "\n",
        "err_v = []\n",
        "err_w = []\n",
        "while (time<1000) :\n",
        "    kf.predict(DT , initial_torque_left , initial_torque_right)\n",
        "    ci = initial_torque_left + initial_torque_right\n",
        "    meas_velocity = meas_velocity + ((I/r)*ci*DT)\n",
        "    meas_angular_velocity = meas_angular_velocity + (((l * m)/r)*(ci)*DT)\n",
        "    meas_velocity = meas_velocity +  np.random.randn() * np.sqrt(meas_variance)\n",
        "    meas_angular_velocity = meas_angular_velocity + np.random.randn() * np.sqrt(meas_variance)\n",
        "    # print(\"New\")\n",
        "    # print(time)\n",
        "    #print(meas_velocity , meas_angular_velocity )\n",
        "    if (time != 0 and time % 2 == 0) :\n",
        "        # print(\"New\",time)\n",
        "        # print(meas_velocity , meas_angular_velocity )\n",
        "        kf.update(meas_velocity , meas_angular_velocity , meas_variance)\n",
        "        mean = kf.mean\n",
        "        mean = np.array(mean)\n",
        "        velocity = mean[0][0]\n",
        "        angular_velocity = mean[1][0]\n",
        "        # print(\"Velcoity\")\n",
        "        # print(velocity,angular_velocity)\n",
        "        v_reference = 4 * time\n",
        "        w_reference = 5 * time\n",
        "        error_velocity = v_reference - velocity\n",
        "        error_angular = w_reference - angular_velocity\n",
        "        # print(\"Error\")\n",
        "        # print(error_velocity,error_angular)\n",
        "        torque_left  = (((m * r)/2) * (4 + C_4 * error_velocity)) - (((I*r)/(2*c)) * (5 + C_5 * error_angular))\n",
        "        torque_right = (((m * r)/2) * (4 + C_4 * error_velocity)) + (((I*r)/(2*c)) * (5 + C_5 * error_angular))\n",
        "        initial_torque_left = torque_left\n",
        "        initial_torque_right = torque_right\n",
        "        err_v.append(error_velocity)\n",
        "        err_w.append(error_angular)\n",
        "    time = time + DT\n",
        "\n",
        "#err_v = np.array(err_v[:])\n",
        "#err_w = np.array(err_w[:])\n",
        "print(len(err_v))\n",
        "print(err_v)\n",
        "plt.plot(err_v)\n",
        "# plt.plot(err_w)\n",
        "\n"
      ],
      "metadata": {
        "colab": {
          "base_uri": "https://localhost:8080/",
          "height": 629
        },
        "id": "Iz8_4ajVUTUJ",
        "outputId": "11dde431-cdbd-4b63-f805-bf6f841ab9cf"
      },
      "execution_count": null,
      "outputs": [
        {
          "output_type": "stream",
          "name": "stderr",
          "text": [
            "<ipython-input-165-e7cf0b52bc3f>:59: RuntimeWarning: overflow encountered in double_scalars\n",
            "  torque_left  = (m * r) / 2 * (4 + C_4 * error_velocity) - ((I * r) /(2*c)) * (5 + C_5 * error_angular)\n",
            "<ipython-input-165-e7cf0b52bc3f>:60: RuntimeWarning: overflow encountered in double_scalars\n",
            "  torque_right = (m * r) / 2 * (4 + C_4 * error_velocity) + ((I * r) /(2*c)) * (5 + C_5 * error_angular)\n",
            "<ipython-input-161-a74394b3464e>:35: RuntimeWarning: invalid value encountered in double_scalars\n",
            "  self._ci = torque_left + torque_right\n"
          ]
        },
        {
          "output_type": "stream",
          "name": "stdout",
          "text": [
            "499\n",
            "[7.152790114339857, -64.12622908315475, 577.1940954095891, -5194.81461424347, 46753.31233692093, -420779.7065350817, 3787017.357098751, -34083156.01127761, 306748404.19326395, -2760735637.672735, 24846620739.016838, -223619586651.0586, 2012576279859.6099, -18113186518736.445, 163018678668627.4, -1467168108017646.8, 1.3204512972158824e+16, -1.1884061674942939e+17, 1.0695655507448646e+18, -9.626089956703779e+18, 8.663480961033401e+19, -7.797132864930061e+20, 7.017419578437053e+21, -6.315677620593348e+22, 5.684109858534013e+23, -5.115698872680611e+24, 4.60412898541255e+25, -4.143716086871296e+26, 3.7293444781841663e+27, -3.3564100303657504e+28, 3.0207690273291752e+29, -2.718692124596258e+30, 2.4468229121366322e+31, -2.2021406209229692e+32, 1.9819265588306725e+33, -1.7837339029476054e+34, 1.6053605126528447e+35, -1.4448244613875606e+36, 1.3003420152488045e+37, -1.170307813723924e+38, 1.0532770323515315e+39, -9.479493291163785e+39, 8.5315439620474065e+40, -7.678389565842666e+41, 6.910550609258399e+42, -6.219495548332559e+43, 5.597545993499304e+44, -5.0377913941493737e+45, 4.534012254734436e+46, -4.080611029260992e+47, 3.6725499263348936e+48, -3.3052949337014043e+49, 2.974765440331264e+50, -2.6772888962981374e+51, 2.4095600066683244e+52, -2.168604006001492e+53, 1.9517436054013432e+54, -1.756569244861209e+55, 1.5809123203750884e+56, -1.4228210883375795e+57, 1.2805389795038218e+58, -1.1524850815534394e+59, 1.0372365733980958e+60, -9.33512916058286e+60, 8.401616244524573e+61, -7.5614546200721165e+62, 6.805309158064905e+63, -6.124778242258415e+64, 5.512300418032573e+65, -4.961070376229316e+66, 4.464963338606385e+67, -4.018467004745746e+68, 3.616620304271172e+69, -3.254958273844055e+70, 2.929462446459649e+71, -2.636516201813685e+72, 2.372864581632316e+73, -2.1355781234690848e+74, 1.9220203111221762e+75, -1.7298182800099588e+76, 1.5568364520089632e+77, -1.4011528068080667e+78, 1.26103752612726e+79, -1.1349337735145341e+80, 1.021440396163081e+81, -9.192963565467728e+81, 8.273667208920954e+82, -7.44630048802886e+83, 6.701670439225976e+84, -6.0315033953033786e+85, 5.428353055773041e+86, -4.885517750195737e+87, 4.3969659751761645e+88, -3.957269377658547e+89, 3.5615424398926925e+90, -3.2053881959034234e+91, 2.8848493763130815e+92, -2.596364438681773e+93, 2.336727994813596e+94, -2.103055195332237e+95, 1.8927496757990135e+96, -1.7034747082191122e+97, 1.533127237397201e+98, -1.379814513657481e+99, 1.241833062291733e+100, -1.1176497560625598e+101, 1.0058847804563039e+102, -9.052963024106735e+102, 8.147666721696061e+103, -7.332900049526455e+104, 6.59961004457381e+105, -5.939649040116429e+106, 5.345684136104787e+107, -4.811115722494308e+108, 4.3300041502448765e+109, -3.897003735220389e+110, 3.50730336169835e+111, -3.156573025528515e+112, 2.8409157229756633e+113, -2.556824150678097e+114, 2.301141735610287e+115, -2.0710275620492586e+116, 1.863924805844332e+117, -1.6775323252598994e+118, 1.5097790927339094e+119, -1.3588011834605184e+120, 1.2229210651144664e+121, -1.10062895860302e+122, 9.90566062742718e+122, -8.915094564684461e+123, 8.023585108216014e+124, -7.221226597394414e+125, 6.499103937654973e+126, -5.8491935438894755e+127, 5.264274189500527e+128, -4.737846770550475e+129, 4.2640620934954274e+130, -3.837655884145885e+131, 3.4538902957312965e+132, -3.1085012661581675e+133, 2.7976511395423503e+134, -2.5178860255881156e+135, 2.2660974230293045e+136, -2.039487680726374e+137, 1.8355389126537367e+138, -1.651985021388363e+139, 1.4867865192495268e+140, -1.3381078673245742e+141, 1.2042970805921167e+142, -1.083867372532905e+143, 9.754806352796145e+143, -8.779325717516531e+144, 7.901393145764876e+145, -7.111253831188388e+146, 6.40012844806955e+147, -5.760115603262595e+148, 5.184104042936336e+149, -4.665693638642703e+150, 4.199124274778432e+151, -3.7792118473005888e+152, 3.40129066257053e+153, -3.061161596313477e+154, 2.7550454366821295e+155, -2.479540893013917e+156, 2.2315868037125252e+157, -2.0084281233412726e+158, 1.807585311007145e+159, -1.6268267799064305e+160, 1.4641441019157875e+161, -1.317729691724209e+162, 1.1859567225517879e+163, -1.0673610502966091e+164, 9.606249452669482e+164, -8.645624507402535e+165, 7.781062056662281e+166, -7.002955850996054e+167, 6.302660265896449e+168, -5.672394239306804e+169, 5.105154815376124e+170, -4.594639333838512e+171, 4.135175400454661e+172, -3.7216578604091936e+173, 3.3494920743682753e+174, -3.0145428669314472e+175, 2.7130885802383026e+176, -2.441779722214473e+177, 2.197601749993026e+178, -1.9778415749937233e+179, 1.7800574174943509e+180, -1.6020516757449157e+181, 1.441846508170424e+182, -1.2976618573533815e+183, 1.1678956716180435e+184, -1.0511061044562392e+185, 9.459954940106151e+185, -8.513959446095536e+186, 7.662563501485984e+187, -6.896307151337385e+188, 6.206676436203647e+189, -5.586008792583282e+190, 5.027407913324955e+191, -4.524667121992459e+192, 4.072200409793214e+193, -3.6649803688138936e+194, 3.2984823319325054e+195, -2.9686340987392553e+196, 2.6717706888653294e+197, -2.404593619978796e+198, 2.164134257980917e+199, -1.947720832182825e+200, 1.7529487489645427e+201, -1.5776538740680888e+202, 1.4198884866612799e+203, -1.277899637995152e+204, 1.1501096741956367e+205, -1.035098706776073e+206, 9.315888360984656e+206, -8.384299524886191e+207, 7.545869572397572e+208, -6.791282615157815e+209, 6.112154353642034e+210, -5.50093891827783e+211, 4.9508450264500474e+212, -4.4557605238050436e+213, 4.010184471424539e+214, -3.6091660242820865e+215, 3.2482494218538777e+216, -2.92342447966849e+217, 2.631082031701641e+218, -2.3679738285314768e+219, 2.1311764456783295e+220, -1.9180588011104963e+221, 1.7262529209994467e+222, -1.5536276288995023e+223, 1.3982648660095522e+224, -1.258438379408597e+225, 1.1325945414677371e+226, -1.0193350873209637e+227, 9.174015785888673e+227, -8.256614207299805e+228, 7.430952786569824e+229, -6.687857507912842e+230, 6.019071757121556e+231, -5.417164581409401e+232, 4.875448123268461e+233, -4.387903310941615e+234, 3.949112979847454e+235, -3.554201681862708e+236, 3.198781513676438e+237, -2.8789033623087944e+238, 2.5910130260779147e+239, -2.3319117234701234e+240, 2.0987205511231117e+241, -1.8888484960108006e+242, 1.6999636464097205e+243, -1.5299672817687484e+244, 1.3769705535918738e+245, -1.2392734982326863e+246, 1.1153461484094176e+247, -1.0038115335684759e+248, 9.034303802116283e+248, -8.130873421904656e+249, 7.31778607971419e+250, -6.586007471742771e+251, 5.927406724568494e+252, -5.334666052111645e+253, 4.80119944690048e+254, -4.321079502210433e+255, 3.888971551989389e+256, -3.50007439679045e+257, 3.150066957111405e+258, -2.835060261400265e+259, 2.5515542352602384e+260, -2.296398811734215e+261, 2.0667589305607937e+262, -1.8600830375047146e+263, 1.6740747337542431e+264, -1.5066672603788188e+265, 1.356000534340937e+266, -1.2204004809068435e+267, 1.0983604328161591e+268, -9.885243895345433e+268, 8.896719505810891e+269, -8.007047555229802e+270, 7.206342799706824e+271, -6.485708519736142e+272, 5.837137667762527e+273, -5.2534239009862745e+274, 4.728081510887648e+275, -4.255273359798883e+276, 3.829746023818994e+277, -3.4467714214370956e+278, 3.1020942792933863e+279, -2.7918848513640477e+280, 2.512696366227643e+281, -2.261426729604879e+282, 2.035284056644391e+283, -1.8317556509799517e+284, 1.6485800858819565e+285, -1.4837220772937608e+286, 1.3353498695643847e+287, -1.2018148826079462e+288, 1.0816333943471517e+289, -9.734700549124367e+289, 8.761230494211931e+290, -7.88510744479074e+291, 7.0965967003116675e+292, -6.386937030280501e+293, 5.748243327252452e+294, -5.173418994527207e+295, 4.656077095074487e+296, -4.190469385567038e+297, 3.771422447010335e+298, -3.394280202309301e+299, 3.054852182078371e+300, -2.749366963870534e+301, 2.4744302674834807e+302, -2.226987240735133e+303, 2.0042885166616197e+304, -1.8038596649954576e+305, 1.6234736984959118e+306, nan, nan, nan, nan, nan, nan, nan, nan, nan, nan, nan, nan, nan, nan, nan, nan, nan, nan, nan, nan, nan, nan, nan, nan, nan, nan, nan, nan, nan, nan, nan, nan, nan, nan, nan, nan, nan, nan, nan, nan, nan, nan, nan, nan, nan, nan, nan, nan, nan, nan, nan, nan, nan, nan, nan, nan, nan, nan, nan, nan, nan, nan, nan, nan, nan, nan, nan, nan, nan, nan, nan, nan, nan, nan, nan, nan, nan, nan, nan, nan, nan, nan, nan, nan, nan, nan, nan, nan, nan, nan, nan, nan, nan, nan, nan, nan, nan, nan, nan, nan, nan, nan, nan, nan, nan, nan, nan, nan, nan, nan, nan, nan, nan, nan, nan, nan, nan, nan, nan, nan, nan, nan, nan, nan, nan, nan, nan, nan, nan, nan, nan, nan, nan, nan, nan, nan, nan, nan, nan, nan, nan, nan, nan, nan, nan, nan, nan, nan, nan, nan, nan, nan, nan, nan, nan, nan, nan, nan, nan, nan, nan, nan, nan, nan, nan, nan, nan, nan, nan, nan, nan, nan, nan, nan, nan, nan, nan, nan]\n"
          ]
        },
        {
          "output_type": "execute_result",
          "data": {
            "text/plain": [
              "[<matplotlib.lines.Line2D at 0x7e7a07bcfa90>]"
            ]
          },
          "metadata": {},
          "execution_count": 165
        },
        {
          "output_type": "display_data",
          "data": {
            "text/plain": [
              "<Figure size 640x480 with 1 Axes>"
            ],
            "image/png": "[encoded data removed]"
          },
          "metadata": {}
        }
      ]
    },
    {
      "cell_type": "code",
      "source": [],
      "metadata": {
        "colab": {
          "base_uri": "https://localhost:8080/"
        },
        "id": "c-8LiHRpUIQu",
        "outputId": "c557e83a-c7db-4968-fdc0-62669e302e5c"
      },
      "execution_count": null,
      "outputs": [
        {
          "output_type": "execute_result",
          "data": {
            "text/plain": [
              "-0.033514481837402604"
            ]
          },
          "metadata": {},
          "execution_count": 159
        }
      ]
    },
    {
      "cell_type": "code",
      "source": [
        "import matplotlib.pyplot as plt\n",
        "\n",
        "kf = KF( initial_v = 1.0 , initial_w= 1.0 ,  torque_left = 1.0 , torque_right = 1.0 )\n",
        "\n",
        "DT = 0.1\n",
        "Num_steps = 10\n",
        "mus = [] #store the mean\n",
        "\n",
        "covs = [] #store the covariance\n",
        "\n",
        "for i in range (Num_steps) :\n",
        "    covs.append(kf.cov)\n",
        "    mus.append(kf.mean)\n",
        "\n",
        "    kf.predict(dt = DT)\n",
        "\n",
        "mus = np.array(mus)\n",
        "#print(mus[:,0])\n",
        "plt.plot(mus[:,0])\n",
        "plt.plot(mus[:,1])\n",
        "#plt.title('linear_velocity')\n",
        "\n",
        "\n",
        "\n",
        "\n",
        "\n"
      ],
      "metadata": {
        "colab": {
          "base_uri": "https://localhost:8080/",
          "height": 254
        },
        "id": "mXfM1THXl_xH",
        "outputId": "68eac8fe-e7cd-4293-a143-4e7a29369f28"
      },
      "execution_count": null,
      "outputs": [
        {
          "output_type": "error",
          "ename": "TypeError",
          "evalue": "ignored",
          "traceback": [
            "\u001b[0;31m---------------------------------------------------------------------------\u001b[0m",
            "\u001b[0;31mTypeError\u001b[0m                                 Traceback (most recent call last)",
            "\u001b[0;32m<ipython-input-167-3bd3efa59fc5>\u001b[0m in \u001b[0;36m<cell line: 11>\u001b[0;34m()\u001b[0m\n\u001b[1;32m     13\u001b[0m     \u001b[0mmus\u001b[0m\u001b[0;34m.\u001b[0m\u001b[0mappend\u001b[0m\u001b[0;34m(\u001b[0m\u001b[0mkf\u001b[0m\u001b[0;34m.\u001b[0m\u001b[0mmean\u001b[0m\u001b[0;34m)\u001b[0m\u001b[0;34m\u001b[0m\u001b[0;34m\u001b[0m\u001b[0m\n\u001b[1;32m     14\u001b[0m \u001b[0;34m\u001b[0m\u001b[0m\n\u001b[0;32m---> 15\u001b[0;31m     \u001b[0mkf\u001b[0m\u001b[0;34m.\u001b[0m\u001b[0mpredict\u001b[0m\u001b[0;34m(\u001b[0m\u001b[0mdt\u001b[0m \u001b[0;34m=\u001b[0m \u001b[0mDT\u001b[0m\u001b[0;34m)\u001b[0m\u001b[0;34m\u001b[0m\u001b[0;34m\u001b[0m\u001b[0m\n\u001b[0m\u001b[1;32m     16\u001b[0m \u001b[0;34m\u001b[0m\u001b[0m\n\u001b[1;32m     17\u001b[0m \u001b[0mmus\u001b[0m \u001b[0;34m=\u001b[0m \u001b[0mnp\u001b[0m\u001b[0;34m.\u001b[0m\u001b[0marray\u001b[0m\u001b[0;34m(\u001b[0m\u001b[0mmus\u001b[0m\u001b[0;34m)\u001b[0m\u001b[0;34m\u001b[0m\u001b[0;34m\u001b[0m\u001b[0m\n",
            "\u001b[0;31mTypeError\u001b[0m: KF.predict() missing 2 required positional arguments: 'torque_left' and 'torque_right'"
          ]
        }
      ]
    },
    {
      "cell_type": "code",
      "source": [
        "mus = [] #store the mean\n",
        "\n",
        "covs = [] #store the covariance\n",
        "\n",
        "meas_velocity = 0.2\n",
        "meas_angular_velocity = 0.2\n",
        "\n",
        "I = 0.1\n",
        "R = 1\n",
        "l = 1\n",
        "m = 10\n",
        "ci = 2.0\n",
        "for i in range (Num_steps) :\n",
        "    covs.append(kf.cov)\n",
        "    mus.append(kf.mean)\n",
        "    kf.predict(dt = DT)\n",
        "    meas_velocity = meas_velocity + (I/R) * ci * DT  # measurement of velocity\n",
        "    meas_angular_velocity = meas_angular_velocity + (l * m) / R * (ci) * DT  # model of angular velocity\n",
        "    if i != 0 and i % 2 == 0 :\n",
        "        kf.update (meas_velocity = meas_velocity +  np.random.randn() * np.sqrt(meas_variance) , meas_angular_velocity = meas_angular_velocity + np.random.randn() * np.sqrt(meas_variance) , meas_variance = meas_variance)\n",
        "\n",
        "\n",
        "\n",
        "\n",
        "mus = np.array(mus)\n",
        "#print(mus[:,0])\n",
        "plt.plot(mus[:,0])\n",
        "plt.plot(mus[:,1])\n",
        "#plt.title('linear_velocity')"
      ],
      "metadata": {
        "id": "WGiPF6VDmD0N",
        "colab": {
          "base_uri": "https://localhost:8080/",
          "height": 254
        },
        "outputId": "da398974-aa89-4dcb-8c0b-6aabf30558cb"
      },
      "execution_count": null,
      "outputs": [
        {
          "output_type": "error",
          "ename": "NameError",
          "evalue": "ignored",
          "traceback": [
            "\u001b[0;31m---------------------------------------------------------------------------\u001b[0m",
            "\u001b[0;31mNameError\u001b[0m                                 Traceback (most recent call last)",
            "\u001b[0;32m<ipython-input-166-bf1da1b3e71d>\u001b[0m in \u001b[0;36m<cell line: 13>\u001b[0;34m()\u001b[0m\n\u001b[1;32m     11\u001b[0m \u001b[0mm\u001b[0m \u001b[0;34m=\u001b[0m \u001b[0;36m10\u001b[0m\u001b[0;34m\u001b[0m\u001b[0;34m\u001b[0m\u001b[0m\n\u001b[1;32m     12\u001b[0m \u001b[0mci\u001b[0m \u001b[0;34m=\u001b[0m \u001b[0;36m2.0\u001b[0m\u001b[0;34m\u001b[0m\u001b[0;34m\u001b[0m\u001b[0m\n\u001b[0;32m---> 13\u001b[0;31m \u001b[0;32mfor\u001b[0m \u001b[0mi\u001b[0m \u001b[0;32min\u001b[0m \u001b[0mrange\u001b[0m \u001b[0;34m(\u001b[0m\u001b[0mNum_steps\u001b[0m\u001b[0;34m)\u001b[0m \u001b[0;34m:\u001b[0m\u001b[0;34m\u001b[0m\u001b[0;34m\u001b[0m\u001b[0m\n\u001b[0m\u001b[1;32m     14\u001b[0m     \u001b[0mcovs\u001b[0m\u001b[0;34m.\u001b[0m\u001b[0mappend\u001b[0m\u001b[0;34m(\u001b[0m\u001b[0mkf\u001b[0m\u001b[0;34m.\u001b[0m\u001b[0mcov\u001b[0m\u001b[0;34m)\u001b[0m\u001b[0;34m\u001b[0m\u001b[0;34m\u001b[0m\u001b[0m\n\u001b[1;32m     15\u001b[0m     \u001b[0mmus\u001b[0m\u001b[0;34m.\u001b[0m\u001b[0mappend\u001b[0m\u001b[0;34m(\u001b[0m\u001b[0mkf\u001b[0m\u001b[0;34m.\u001b[0m\u001b[0mmean\u001b[0m\u001b[0;34m)\u001b[0m\u001b[0;34m\u001b[0m\u001b[0;34m\u001b[0m\u001b[0m\n",
            "\u001b[0;31mNameError\u001b[0m: name 'Num_steps' is not defined"
          ]
        }
      ]
    }
  ]
}